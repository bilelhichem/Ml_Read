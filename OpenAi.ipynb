{
 "cells": [
  {
   "cell_type": "code",
   "execution_count": null,
   "metadata": {},
   "outputs": [
    {
     "name": "stdout",
     "output_type": "stream",
     "text": [
      "RateLimitError: Error code: 429 - {'error': {'message': 'You exceeded your current quota, please check your plan and billing details. For more information on this error, read the docs: https://platform.openai.com/docs/guides/error-codes/api-errors.', 'type': 'insufficient_quota', 'param': None, 'code': 'insufficient_quota'}}\n",
      "You exceeded your current quota, please check your plan and billing details.\n"
     ]
    }
   ],
   "source": [
    "from openai import OpenAI, RateLimitError\n",
    "from sk import my_sk  \n",
    "\n",
    "\n",
    "client = OpenAI(api_key=my_sk)\n",
    "\n",
    "try:\n",
    "  \n",
    "    response = client.chat.completions.create(\n",
    "        model=\"gpt-3.5-turbo\",\n",
    "        messages=[{\"role\": \"user\", \"content\": \"Hello, how can I use OpenAI's API?\"}],\n",
    "        temperature=0.7\n",
    "    )\n",
    "\n",
    "    print(response.choices[0].message.content)\n",
    "\n",
    "except RateLimitError as e:\n",
    "    print(f\"RateLimitError: {e}\")\n",
    "    print(\"You exceeded your current quota, please check your plan and billing details.\")"
   ]
  }
 ],
 "metadata": {
  "language_info": {
   "name": "python"
  }
 },
 "nbformat": 4,
 "nbformat_minor": 2
}
